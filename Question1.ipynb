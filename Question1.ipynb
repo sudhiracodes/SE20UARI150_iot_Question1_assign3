{
 "cells": [
  {
   "cell_type": "markdown",
   "id": "9e6f59a6",
   "metadata": {},
   "source": [
    "# Question1"
   ]
  },
  {
   "cell_type": "markdown",
   "id": "3f3ce23e",
   "metadata": {},
   "source": [
    "Implementing First Come First Serve(FCFS) Scheduling"
   ]
  },
  {
   "cell_type": "code",
   "execution_count": 9,
   "id": "f64a3cbc",
   "metadata": {},
   "outputs": [
    {
     "name": "stdout",
     "output_type": "stream",
     "text": [
      "FCFS Preemptive Scheduling:\n",
      "Process\tWaiting Time\tTurnaround Time\n",
      "P1\t42\t\t66\n",
      "P2\t3\t\t6\n",
      "P3\t5\t\t8\n",
      "P4\t16\t\t28\n",
      "Average Waiting Time: 16.5\n",
      "Average Turnaround Time: 27.0\n"
     ]
    }
   ],
   "source": [
    "def preemptive_fcfs(arr):\n",
    "    SIZE = len(arr)\n",
    "    total_time = 0\n",
    "    waiting_time = [0] * SIZE\n",
    "    remaining_time = [process[2] for process in arr]\n",
    "\n",
    "    print(\"FCFS Preemptive Scheduling:\")\n",
    "    print(\"Process\\tWaiting Time\\tTurnaround Time\")\n",
    "\n",
    "    while any(remaining_time):\n",
    "        min_remaining_time = float(\"inf\")\n",
    "        min_index = -1\n",
    "\n",
    "        for i in range(SIZE):\n",
    "            if arr[i][1] <= total_time and remaining_time[i] < min_remaining_time and remaining_time[i] > 0:\n",
    "                min_remaining_time = remaining_time[i]\n",
    "                min_index = i\n",
    "\n",
    "        if min_index == -1:\n",
    "            total_time += 1\n",
    "        else:\n",
    "            remaining_time[min_index] -= 1\n",
    "            total_time += 1\n",
    "\n",
    "            if remaining_time[min_index] == 0:\n",
    "                waiting_time[min_index] = total_time - arr[min_index][1]\n",
    "\n",
    "    turnaround_time = [waiting_time[i] + process[2] for i, process in enumerate(arr)]\n",
    "    avg_waiting_time = sum(waiting_time) / SIZE\n",
    "    avg_turnaround_time = sum(turnaround_time) / SIZE\n",
    "\n",
    "    for i in range(SIZE):\n",
    "        print(f\"{arr[i][0]}\\t{waiting_time[i]}\\t\\t{turnaround_time[i]}\")\n",
    "\n",
    "    print(f\"Average Waiting Time: {avg_waiting_time}\")\n",
    "    print(f\"Average Turnaround Time: {avg_turnaround_time}\")\n",
    "\n",
    "if __name__ == \"__main__\":\n",
    "    processes_preemptive_fcfs = [\n",
    "        (\"P1\", 0, 24, 3),\n",
    "        (\"P2\", 4, 3, 1),\n",
    "        (\"P3\", 5, 3, 4),\n",
    "        (\"P4\", 6, 12, 2)\n",
    "    ]\n",
    "\n",
    "    preemptive_fcfs(processes_preemptive_fcfs)"
   ]
  },
  {
   "cell_type": "markdown",
   "id": "6e64a0ef",
   "metadata": {},
   "source": [
    "Implementing Shortest Job First(SJF) scheduling"
   ]
  },
  {
   "cell_type": "code",
   "execution_count": 8,
   "id": "6e1fb7a3",
   "metadata": {},
   "outputs": [
    {
     "name": "stdout",
     "output_type": "stream",
     "text": [
      "Process\tWaiting Time\tTurnaround Time\n",
      "P1\t18\t\t42\n",
      "P2\t0\t\t3\n",
      "P3\t2\t\t5\n",
      "P4\t4\t\t16\n",
      "Average Waiting Time: 6.0\n",
      "Average Turnaround Time: 16.5\n"
     ]
    }
   ],
   "source": [
    "def preemptive_sjf(processes):\n",
    "    n = len(processes)\n",
    "    remaining_time = [process['burst_time'] for process in processes]\n",
    "    completion_time = [0] * n\n",
    "    current_time = 0\n",
    "    total_completed = 0\n",
    "    wt = [0] * n\n",
    "    tat = [0] * n\n",
    "\n",
    "    while total_completed < n:\n",
    "        min_remaining_time = float('inf')\n",
    "        min_process_index = -1\n",
    "\n",
    "        for i in range(n):\n",
    "            if (\n",
    "                processes[i]['arrival_time'] <= current_time\n",
    "                and remaining_time[i] < min_remaining_time\n",
    "                and remaining_time[i] > 0\n",
    "            ):\n",
    "                min_remaining_time = remaining_time[i]\n",
    "                min_process_index = i\n",
    "\n",
    "        if min_process_index == -1:\n",
    "            current_time += 1\n",
    "            continue\n",
    "\n",
    "        # Execute the selected process for 1 time unit\n",
    "        remaining_time[min_process_index] -= 1\n",
    "        current_time += 1\n",
    "\n",
    "        if remaining_time[min_process_index] == 0:\n",
    "            total_completed += 1\n",
    "            completion_time[min_process_index] = current_time\n",
    "            wt[min_process_index] = completion_time[min_process_index] - processes[min_process_index]['burst_time'] - processes[min_process_index]['arrival_time']\n",
    "            tat[min_process_index] = completion_time[min_process_index] - processes[min_process_index]['arrival_time']\n",
    "\n",
    "    # Calculate the average waiting time and average turnaround time\n",
    "    avg_waiting_time = sum(wt) / n\n",
    "    avg_turnaround_time = sum(tat) / n\n",
    "\n",
    "    return wt, tat, avg_waiting_time, avg_turnaround_time\n",
    "\n",
    "if __name__ == \"__main__\":\n",
    "    processes = [\n",
    "        {\"name\": \"P1\", \"arrival_time\": 0, \"burst_time\": 24, \"priority\": 3},\n",
    "        {\"name\": \"P2\", \"arrival_time\": 4, \"burst_time\": 3, \"priority\": 1},\n",
    "        {\"name\": \"P3\", \"arrival_time\": 5, \"burst_time\": 3, \"priority\": 4},\n",
    "        {\"name\": \"P4\", \"arrival_time\": 6, \"burst_time\": 12, \"priority\": 2},\n",
    "    ]\n",
    "\n",
    "    wt, tat, avg_waiting_time, avg_turnaround_time = preemptive_sjf(processes)\n",
    "\n",
    "    print(\"Process\\tWaiting Time\\tTurnaround Time\")\n",
    "    for i in range(len(processes)):\n",
    "        print(f\"{processes[i]['name']}\\t{wt[i]}\\t\\t{tat[i]}\")\n",
    "\n",
    "    print(f\"Average Waiting Time: {avg_waiting_time}\")\n",
    "    print(f\"Average Turnaround Time: {avg_turnaround_time}\")"
   ]
  },
  {
   "cell_type": "markdown",
   "id": "0a967c63",
   "metadata": {},
   "source": [
    "Implementing Priority Scheduling"
   ]
  },
  {
   "cell_type": "code",
   "execution_count": 7,
   "id": "cfcc0e41",
   "metadata": {},
   "outputs": [
    {
     "name": "stdout",
     "output_type": "stream",
     "text": [
      "Process\tWaiting Time\tTurnaround Time\n",
      "P1\t19\t\t43\n",
      "P2\t0\t\t3\n",
      "P3\t38\t\t41\n",
      "P4\t1\t\t13\n",
      "Average Waiting Time: 14.5\n",
      "Average Turnaround Time: 25.0\n"
     ]
    }
   ],
   "source": [
    "def priority_scheduling(processes):\n",
    "    n = len(processes)\n",
    "    wt = [0] * n\n",
    "    tat = [0] * n\n",
    "    processes_sorted = sorted(processes, key=lambda x: (x['priority'], x['arrival_time']))\n",
    "    completion_time = processes_sorted[0]['arrival_time']\n",
    "\n",
    "    for i in range(n):\n",
    "        if completion_time < processes_sorted[i]['arrival_time']:\n",
    "            completion_time = processes_sorted[i]['arrival_time']\n",
    "        wt[processes.index(processes_sorted[i])] = completion_time - processes_sorted[i]['arrival_time']\n",
    "        completion_time += processes_sorted[i]['burst_time']\n",
    "        tat[processes.index(processes_sorted[i])] = wt[processes.index(processes_sorted[i])] + processes_sorted[i]['burst_time']\n",
    "\n",
    "    return wt, tat\n",
    "\n",
    "if __name__ == \"__main__\":\n",
    "    processes = [\n",
    "        {\"name\": \"P1\", \"arrival_time\": 0, \"burst_time\": 24, \"priority\": 3},\n",
    "    {\"name\": \"P2\", \"arrival_time\": 4, \"burst_time\": 3, \"priority\": 1},\n",
    "    {\"name\": \"P3\", \"arrival_time\": 5, \"burst_time\": 3, \"priority\": 4},\n",
    "    {\"name\": \"P4\", \"arrival_time\": 6, \"burst_time\": 12, \"priority\": 2}\n",
    "    ]\n",
    "\n",
    "\n",
    "    wt, tat = priority_scheduling(processes)\n",
    "\n",
    "    print(\"Process\\tWaiting Time\\tTurnaround Time\")\n",
    "    for i in range(len(processes)):\n",
    "        print(f\"{processes[i]['name']}\\t{wt[i]}\\t\\t{tat[i]}\")\n",
    "\n",
    "    avg_waiting_time = sum(wt) / len(processes)\n",
    "    avg_turnaround_time = sum(tat) / len(processes)\n",
    "\n",
    "    print(f\"Average Waiting Time: {avg_waiting_time}\")\n",
    "    print(f\"Average Turnaround Time: {avg_turnaround_time}\")"
   ]
  },
  {
   "cell_type": "markdown",
   "id": "3904ee4d",
   "metadata": {},
   "source": [
    "Implementing Round Robin Scheduling(taking Time Quantum as 4)"
   ]
  },
  {
   "cell_type": "code",
   "execution_count": 6,
   "id": "f6984f67",
   "metadata": {},
   "outputs": [
    {
     "name": "stdout",
     "output_type": "stream",
     "text": [
      "Preemptive Round Robin Scheduling:\n",
      "Process\tWaiting Time\tTurnaround Time\n",
      "P1\t18\t\t42\n",
      "P2\t0\t\t3\n",
      "P3\t2\t\t5\n",
      "P4\t12\t\t24\n",
      "Average Waiting Time: 8.0\n",
      "Average Turnaround Time: 18.5\n"
     ]
    }
   ],
   "source": [
    "from collections import deque\n",
    "\n",
    "def RoundRobin_preemptive(processes, quantum):\n",
    "    n = len(processes)\n",
    "    remaining_time = [process[2] for process in processes]\n",
    "    waiting_time = [0] * n\n",
    "    turnaround_time = [0] * n\n",
    "    time = 0\n",
    "    queue = deque()\n",
    "\n",
    "    while True:\n",
    "        for i in range(n):\n",
    "            if processes[i][1] <= time and remaining_time[i] > 0:\n",
    "                if remaining_time[i] > quantum:\n",
    "                    time += quantum\n",
    "                    remaining_time[i] -= quantum\n",
    "                    queue.append(i)\n",
    "                else:\n",
    "                    time += remaining_time[i]\n",
    "                    waiting_time[i] = time - processes[i][1] - processes[i][2]\n",
    "                    remaining_time[i] = 0\n",
    "                    turnaround_time[i] = waiting_time[i] + processes[i][2]\n",
    "\n",
    "        done = True\n",
    "        for i in range(n):\n",
    "            if remaining_time[i] > 0:\n",
    "                done = False\n",
    "                break\n",
    "\n",
    "        if done:\n",
    "            break\n",
    "\n",
    "        # Rotate the queue to handle other processes\n",
    "        queue.append(queue.popleft())\n",
    "\n",
    "    total_waiting_time = sum(waiting_time)\n",
    "    total_turnaround_time = sum(turnaround_time)\n",
    "    avg_waiting_time = total_waiting_time / n\n",
    "    avg_turnaround_time = total_turnaround_time / n\n",
    "\n",
    "    print(\"Preemptive Round Robin Scheduling:\")\n",
    "    print(\"Process\\tWaiting Time\\tTurnaround Time\")\n",
    "\n",
    "    for i in range(n):\n",
    "        print(f\"{processes[i][0]}\\t{waiting_time[i]}\\t\\t{turnaround_time[i]}\")\n",
    "\n",
    "    print(f\"Average Waiting Time: {avg_waiting_time}\")\n",
    "    print(f\"Average Turnaround Time: {avg_turnaround_time}\")\n",
    "\n",
    "if __name__ == \"__main__\":\n",
    "    processes = [\n",
    "        (\"P1\", 0, 24, 3),\n",
    "        (\"P2\", 4, 3, 1),\n",
    "        (\"P3\", 5, 3, 4),\n",
    "        (\"P4\", 6, 12, 2)\n",
    "    ]\n",
    "    quantum = 4\n",
    "\n",
    "    RoundRobin_preemptive(processes, quantum)\n"
   ]
  },
  {
   "cell_type": "code",
   "execution_count": null,
   "id": "840d9026",
   "metadata": {},
   "outputs": [],
   "source": []
  }
 ],
 "metadata": {
  "kernelspec": {
   "display_name": "Python 3 (ipykernel)",
   "language": "python",
   "name": "python3"
  },
  "language_info": {
   "codemirror_mode": {
    "name": "ipython",
    "version": 3
   },
   "file_extension": ".py",
   "mimetype": "text/x-python",
   "name": "python",
   "nbconvert_exporter": "python",
   "pygments_lexer": "ipython3",
   "version": "3.10.9"
  }
 },
 "nbformat": 4,
 "nbformat_minor": 5
}
